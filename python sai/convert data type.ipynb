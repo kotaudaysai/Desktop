{
 "cells": [
  {
   "cell_type": "code",
   "execution_count": 4,
   "metadata": {},
   "outputs": [
    {
     "name": "stdout",
     "output_type": "stream",
     "text": [
      "(1, 2, 3, 4, 2, 2)\n",
      "[1, 2, 3, 4, 2, 2]\n",
      "{1, 2, 3, 4}\n"
     ]
    }
   ],
   "source": [
    "a=[1,2,3,4,2,2]\n",
    "print(tuple(a))\n",
    "print(str(a))\n",
    "print(set(a))"
   ]
  },
  {
   "cell_type": "code",
   "execution_count": 5,
   "metadata": {},
   "outputs": [
    {
     "name": "stdout",
     "output_type": "stream",
     "text": [
      "{'name': 'uday', 'age': 21}\n"
     ]
    }
   ],
   "source": [
    "d=[\"name\",\"uday\"],[\"age\",21]\n",
    "print(dict(d))"
   ]
  },
  {
   "cell_type": "code",
   "execution_count": 9,
   "metadata": {},
   "outputs": [
    {
     "name": "stdout",
     "output_type": "stream",
     "text": [
      "{'name': 'uday', 'age': 22}\n",
      "{'name': 'kota', 'hero': 'zero'}\n"
     ]
    }
   ],
   "source": [
    "s=[\"name\",\"uday\"],[\"age\",22]\n",
    "s1=[\"name\",\"kota\"],[\"hero\",\"zero\"]\n",
    "print(dict(s))\n",
    "print(dict(s1))\n",
    "      "
   ]
  },
  {
   "cell_type": "code",
   "execution_count": 10,
   "metadata": {},
   "outputs": [
    {
     "name": "stdout",
     "output_type": "stream",
     "text": [
      "(1, 2, 3, 3, 4, 5)\n",
      "{1, 2, 3, 4, 5}\n",
      "[1, 2, 3, 3, 4, 5]\n"
     ]
    }
   ],
   "source": [
    "a=(1,2,3,3,4,5)\n",
    "print(str(a))\n",
    "print(set(a))\n",
    "print(list(a))"
   ]
  }
 ],
 "metadata": {
  "kernelspec": {
   "display_name": "Python 3",
   "language": "python",
   "name": "python3"
  },
  "language_info": {
   "codemirror_mode": {
    "name": "ipython",
    "version": 3
   },
   "file_extension": ".py",
   "mimetype": "text/x-python",
   "name": "python",
   "nbconvert_exporter": "python",
   "pygments_lexer": "ipython3",
   "version": "3.12.2"
  }
 },
 "nbformat": 4,
 "nbformat_minor": 2
}
